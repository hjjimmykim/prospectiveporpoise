{
  "nbformat": 4,
  "nbformat_minor": 0,
  "metadata": {
    "colab": {
      "name": "Untitled0.ipynb",
      "version": "0.3.2",
      "provenance": [],
      "collapsed_sections": [],
      "toc_visible": true,
      "include_colab_link": true
    },
    "kernelspec": {
      "name": "python3",
      "display_name": "Python 3"
    }
  },
  "cells": [
    {
      "cell_type": "markdown",
      "metadata": {
        "id": "view-in-github",
        "colab_type": "text"
      },
      "source": [
        "[View in Colaboratory](https://colab.research.google.com/github/hjjimmykim/prospectiveporpoise/blob/master/Untitled0.ipynb)"
      ]
    },
    {
      "metadata": {
        "id": "yqVAD3zsUzb7",
        "colab_type": "text"
      },
      "cell_type": "markdown",
      "source": [
        "LOLA\n",
        "\n",
        "Ideas:\n",
        "1. RL vs. RL (multiagent)\n",
        "2. Communication channel (pre-set? deception?)\n",
        "3. LSTM stacked on FWN\n",
        "4. Induce RL to learn ZD-strategy (learn probabilities?)\n",
        "5. RL that adapts to opponent's non-stationary strategy"
      ]
    },
    {
      "metadata": {
        "id": "YjYwbRfHUrrr",
        "colab_type": "text"
      },
      "cell_type": "markdown",
      "source": [
        "# Libraries"
      ]
    },
    {
      "metadata": {
        "id": "N4ZntShaPaC7",
        "colab_type": "code",
        "colab": {
          "base_uri": "https://localhost:8080/",
          "height": 52
        },
        "outputId": "bd78541f-34fc-497d-dd25-03508bd568fd"
      },
      "cell_type": "code",
      "source": [
        "%load_ext autoreload\n",
        "%autoreload 2\n",
        "\n",
        "# Standard\n",
        "import numpy as np\n",
        "import matplotlib.pyplot as plt\n",
        "import copy\n",
        "import time"
      ],
      "execution_count": 8,
      "outputs": [
        {
          "output_type": "stream",
          "text": [
            "The autoreload extension is already loaded. To reload it, use:\n",
            "  %reload_ext autoreload\n"
          ],
          "name": "stdout"
        }
      ]
    },
    {
      "metadata": {
        "id": "kJYoceXaSPXt",
        "colab_type": "text"
      },
      "cell_type": "markdown",
      "source": [
        "# Parameters"
      ]
    },
    {
      "metadata": {
        "id": "iGsR8Ug0SAq1",
        "colab_type": "code",
        "colab": {}
      },
      "cell_type": "code",
      "source": [
        "#Reward structure\n",
        "T = 5 # Temptation\n",
        "R = 3 # Reward\n",
        "P = 1 # Penalty\n",
        "S = 0 # Sucker\n",
        "\n",
        "# Reward matrix (0 = cooperate, 1 = defect)\n",
        "RM = np.zeros([2,2])\n",
        "RM[0][0] = R\n",
        "RM[0][1] = S\n",
        "RM[1][0] = T\n",
        "RM[1][1] = P\n",
        "\n",
        "# RL\n",
        "gamma = 0.3 # Decay rate\n",
        "alpha = 0.001 # Learning rate\n",
        "\n",
        "# Simulation\n",
        "n_eps = 50       # Number of episodes\n",
        "n_turns = 10      # Number of turns per episode\n",
        "n_rec = 10        # For printing purposes"
      ],
      "execution_count": 0,
      "outputs": []
    },
    {
      "metadata": {
        "id": "9eX1tZFMXYgU",
        "colab_type": "text"
      },
      "cell_type": "markdown",
      "source": [
        "# Models"
      ]
    },
    {
      "metadata": {
        "id": "rMkuQ4ZGaB0w",
        "colab_type": "code",
        "colab": {}
      },
      "cell_type": "code",
      "source": [
        "# p1 = [a0,a1,a2,a3,a4]\n",
        "# ai = probability of cooperating when the previous outcome was i\n",
        "# 0 = init\n",
        "# 1 = CC\n",
        "# 2 = CD\n",
        "# 3 = DC\n",
        "# 4 = DD\n",
        "\n",
        "p1 = np.random.random(5) # Model 1\n",
        "p2 = np.random.random(5) # Model 2"
      ],
      "execution_count": 0,
      "outputs": []
    },
    {
      "metadata": {
        "id": "qTQSw7yQgSpw",
        "colab_type": "code",
        "colab": {}
      },
      "cell_type": "code",
      "source": [
        "# Converts action-pair [a1,a2] into a scalar state (0,1,2,3,4)\n",
        "def action_to_state(a1,a2):\n",
        "  \n",
        "  if a1 == -1 and a2 == -1: # Initial\n",
        "    s = 0\n",
        "  elif a1 == 0 and a2 == 0: # CC\n",
        "    s = 1\n",
        "  elif a1 == 0 and a2 == 1: # CD\n",
        "    s = 2\n",
        "  elif a1 == 1 and a2 == 0: # DC\n",
        "    s = 3\n",
        "  elif a1 == 1 and a2 == 1: # DD\n",
        "    s = 4\n",
        "    \n",
        "  return s"
      ],
      "execution_count": 0,
      "outputs": []
    },
    {
      "metadata": {
        "id": "NDCUTuUnk6uh",
        "colab_type": "code",
        "colab": {}
      },
      "cell_type": "code",
      "source": [
        "def mathematica2py(input = 'V.txt', ID_me=1, ID_otherguy=2):\n",
        "    f = open(input)\n",
        "\n",
        "    text = f.read()\n",
        "\n",
        "    text = ''.join(text.split()) # Remove whitespace\n",
        "    text = text.replace('^','**') # Replace ^ with **\n",
        "    \n",
        "    '''\n",
        "    text = text.replace('a0','p' + str(ID_me) + '[0]')\n",
        "    text = text.replace('a1','p' + str(ID_me) + '[1]')\n",
        "    text = text.replace('a2','p' + str(ID_me) + '[2]')\n",
        "    text = text.replace('a3','p' + str(ID_me) + '[3]')\n",
        "    text = text.replace('a4','p' + str(ID_me) + '[4]')\n",
        "    \n",
        "    text = text.replace('b0','p' + str(ID_otherguy) + '[0]')\n",
        "    text = text.replace('b1','p' + str(ID_otherguy) + '[1]')\n",
        "    text = text.replace('b2','p' + str(ID_otherguy) + '[2]')\n",
        "    text = text.replace('b3','p' + str(ID_otherguy) + '[3]')\n",
        "    text = text.replace('b4','p' + str(ID_otherguy) + '[4]')\n",
        "    '''\n",
        "\n",
        "    num_terms = text.count('{')\n",
        "\n",
        "    # Extract terms and get rid of curly braces\n",
        "    terms = []\n",
        "    while text.find('}') > -1:\n",
        "        cut_point = text.find('}')\n",
        "        terms.append(text[:cut_point].strip('{'))\n",
        "        text = text[cut_point+1:]\n",
        "        \n",
        "    return terms"
      ],
      "execution_count": 0,
      "outputs": []
    },
    {
      "metadata": {
        "id": "SO2KyLlmpnAY",
        "colab_type": "code",
        "colab": {}
      },
      "cell_type": "code",
      "source": [
        "def evaluate_gradient(dV, a, b):\n",
        "  # dV = output of mathematica2py\n",
        "  # a = my policy\n",
        "  # b = other guy's policy\n",
        "  \n",
        "  a0 = a[0]\n",
        "  a1 = a[1]\n",
        "  a2 = a[2]\n",
        "  a3 = a[3]\n",
        "  a4 = a[4]\n",
        "  \n",
        "  b0 = b[0]\n",
        "  b1 = b[1]\n",
        "  b2 = b[2]\n",
        "  b3 = b[3]\n",
        "  b4 = b[4]\n",
        "  \n",
        "  return eval(dV)"
      ],
      "execution_count": 0,
      "outputs": []
    },
    {
      "metadata": {
        "id": "S4Sie6LRi6j4",
        "colab_type": "code",
        "colab": {
          "base_uri": "https://localhost:8080/",
          "height": 52
        },
        "outputId": "71c31bf4-75b1-41fa-c16f-b996b749319d"
      },
      "cell_type": "code",
      "source": [
        "V = mathematica2py('V.txt') # Value function (5 elements for each state)\n",
        "\n",
        "# Gradients\n",
        "DVme = [] # w.r.t. my parameters (ai's)\n",
        "for i in range(5):\n",
        "  DVme.append(mathematica2py('DVa' + str(i) + '.txt'))\n",
        "  \n",
        "DVotherguy = [] # w.r.t. other guy's parameters (bi's)\n",
        "for i in range(5):\n",
        "  DVotherguy.append(mathematica2py('DVb' + str(i) + '.txt'))\n",
        "\n",
        "p1 = [1,1,1,1,1]\n",
        "p2 = [1,1,0,0,1]\n",
        "\n",
        "# Tit-for-tat\n",
        "p2 = [1,1,0,0,1]\n",
        "\n",
        "# DVme[i][j] = Gradient of state j value function with respect to a_i\n",
        "# DVotherguy[i][j] = Gradient of state j value function with respect to b_i\n",
        "\n",
        "#print(evaluate_gradient(DVme[0][0], p1, p2))\n",
        "\n",
        "print(p1)\n",
        "print(p2)"
      ],
      "execution_count": 23,
      "outputs": [
        {
          "output_type": "stream",
          "text": [
            "[1, 1, 1, 1, 1]\n",
            "[1, 1, 0, 0, 1]\n"
          ],
          "name": "stdout"
        }
      ]
    },
    {
      "metadata": {
        "id": "pUxFvSmTUOfL",
        "colab_type": "text"
      },
      "cell_type": "markdown",
      "source": [
        "# Game"
      ]
    },
    {
      "metadata": {
        "id": "K3POCMTwgz6T",
        "colab_type": "code",
        "colab": {
          "base_uri": "https://localhost:8080/",
          "height": 532
        },
        "outputId": "c0c6ceea-f4b1-4574-bc7a-a27c387feacb"
      },
      "cell_type": "code",
      "source": [
        "t_start = time.time()\n",
        "t1 = time.time()\n",
        "\n",
        "for i_ep in range(n_eps):\n",
        "  \n",
        "  # Keep track of rewards\n",
        "  rewards1 = np.zeros([n_turns,1])\n",
        "  rewards2 = np.zeros([n_turns,1])\n",
        "  \n",
        "  # Initial state\n",
        "  s1 = 0\n",
        "  s2 = 0\n",
        "  \n",
        "  for i_turn in range(n_turns):\n",
        "   \n",
        "    # Choose action\n",
        "    # 0 = cooperate, 1 = defect\n",
        "    a1 = int(np.random.rand(1) > p1[s1])\n",
        "    a2 = int(np.random.rand(1) > p2[s2])\n",
        "\n",
        "    '''\n",
        "    # Tit-for-tat with initial collab\n",
        "    #if i_turn == 0 or history[i_turn-1][0] == 0:\n",
        "    #  action2 = 0\n",
        "    #else:\n",
        "    #  action2 = 1\n",
        "    \n",
        "    \n",
        "    \n",
        "    # Win-stay lose-shift with initial collab\n",
        "    if i_turn == 0:\n",
        "      action2 = 0\n",
        "    elif reward2 == T or reward2 == R:\n",
        "      action2 = action2\n",
        "    elif reward2 == S or reward2 == P:\n",
        "      action2 = int(not action2)\n",
        "    '''\n",
        "    \n",
        "    # Uniform action\n",
        "    #a2 = 0\n",
        "      \n",
        "    # Get rewards\n",
        "    r1 = RM[a1][a2]\n",
        "    r2 = RM[a2][a1]\n",
        "    \n",
        "    rewards1[i_turn] = r1\n",
        "    rewards2[i_turn] = r2\n",
        "    \n",
        "    # Update the state\n",
        "    s1 = action_to_state(a1,a2)\n",
        "    s2 = action_to_state(a2,a1)\n",
        "    \n",
        "    # Value function gradient descent\n",
        "    \n",
        "    # Player 1 (NL)\n",
        "    for i_pol in range(5):\n",
        "      for j_pol in range(5):\n",
        "        p1[i_pol] = p1[i_pol] + alpha*evaluate_gradient(DVme[i_pol][j_pol],p1,p2)\n",
        "        p1[i_pol] = min(1,p1[i_pol])\n",
        "        p1[i_pol] = max(0,p1[i_pol])\n",
        "    \n",
        "    # Player 2 (NL)\n",
        "    #for i_pol in range(5):\n",
        "    #  p2[i_pol] = p2[i_pol] + alpha*evaluate_gradient(DVme[i_pol][s2],p2,p1)\n",
        "    #  p2[i_pol] = min(1,p2[i_pol])\n",
        "    #  p2[i_pol] = max(0,p2[i_pol])\n",
        "  \n",
        "  # Q_{s+1}\n",
        "  if i_ep % n_rec == 0 and i_ep != 0: \n",
        "    t2 = time.time()\n",
        "    print('-----------------------------')\n",
        "    print('Episode ' + str(i_ep))\n",
        "    print(np.sum(rewards1))\n",
        "    print(np.sum(rewards2))\n",
        "    print(p1)\n",
        "    print('Runtime for episodes ' + str(i_ep - n_rec) + '-' + str(i_ep) + ': ' + str(t2-t1) + ' s')\n",
        "    print('-----------------------------')\n",
        "    t1 = t2\n",
        "    \n",
        "print('Total runtime: ' + str(time.time() - t_start) + ' s')"
      ],
      "execution_count": 24,
      "outputs": [
        {
          "output_type": "stream",
          "text": [
            "-----------------------------\n",
            "Episode 10\n",
            "30.0\n",
            "30.0\n",
            "[0.9752800803190771, 0.9439372493059525, 0.8675797150980885, 0.9245723712008012, 0.974050450500965]\n",
            "Runtime for episodes 0-10: 12.48586368560791 s\n",
            "-----------------------------\n",
            "-----------------------------\n",
            "Episode 20\n",
            "20.0\n",
            "35.0\n",
            "[0.9510746330060985, 0.8900136144465169, 0.7585261702656463, 0.8555070319504949, 0.9466294440183918]\n",
            "Runtime for episodes 10-20: 11.231826305389404 s\n",
            "-----------------------------\n",
            "-----------------------------\n",
            "Episode 30\n",
            "27.0\n",
            "27.0\n",
            "[0.925518771571329, 0.8342507555148486, 0.6581023825225053, 0.7854619879186279, 0.9158470237361522]\n",
            "Runtime for episodes 20-30: 11.234293222427368 s\n",
            "-----------------------------\n",
            "-----------------------------\n",
            "Episode 40\n",
            "27.0\n",
            "27.0\n",
            "[0.8988159088165429, 0.7773355549367366, 0.564878687421458, 0.7140899849062227, 0.8818992926369162]\n",
            "Runtime for episodes 30-40: 11.246532678604126 s\n",
            "-----------------------------\n",
            "Total runtime: 56.3851957321167 s\n"
          ],
          "name": "stdout"
        }
      ]
    },
    {
      "metadata": {
        "id": "Va0YJ3VLritj",
        "colab_type": "code",
        "colab": {
          "base_uri": "https://localhost:8080/",
          "height": 106
        },
        "outputId": "58814abb-39fd-40d3-f543-f6a15ada0ee1"
      },
      "cell_type": "code",
      "source": [
        "p1"
      ],
      "execution_count": 25,
      "outputs": [
        {
          "output_type": "execute_result",
          "data": {
            "text/plain": [
              "[0.873923940217698,\n",
              " 0.7255518215063715,\n",
              " 0.4862801947127675,\n",
              " 0.6485021384996087,\n",
              " 0.8487508699355014]"
            ]
          },
          "metadata": {
            "tags": []
          },
          "execution_count": 25
        }
      ]
    },
    {
      "metadata": {
        "id": "f-81SgwWwaQs",
        "colab_type": "code",
        "colab": {
          "base_uri": "https://localhost:8080/",
          "height": 34
        },
        "outputId": "1a28ca82-4db5-4db9-82cf-8770bcdb9c97"
      },
      "cell_type": "code",
      "source": [
        "p2"
      ],
      "execution_count": 21,
      "outputs": [
        {
          "output_type": "execute_result",
          "data": {
            "text/plain": [
              "[1, 1, 0, 0, 1]"
            ]
          },
          "metadata": {
            "tags": []
          },
          "execution_count": 21
        }
      ]
    },
    {
      "metadata": {
        "id": "lZvbOUKgV3U7",
        "colab_type": "code",
        "colab": {
          "base_uri": "https://localhost:8080/",
          "height": 34
        },
        "outputId": "662cc4cf-d747-4e04-8556-8777041b62dd"
      },
      "cell_type": "code",
      "source": [
        "evaluate_gradient(DVme[0][0],p1,p2)"
      ],
      "execution_count": 32,
      "outputs": [
        {
          "output_type": "execute_result",
          "data": {
            "text/plain": [
              "-1.9800000000020463"
            ]
          },
          "metadata": {
            "tags": []
          },
          "execution_count": 32
        }
      ]
    },
    {
      "metadata": {
        "id": "7xAn1DrQV5Qw",
        "colab_type": "code",
        "colab": {}
      },
      "cell_type": "code",
      "source": [
        ""
      ],
      "execution_count": 0,
      "outputs": []
    }
  ]
}