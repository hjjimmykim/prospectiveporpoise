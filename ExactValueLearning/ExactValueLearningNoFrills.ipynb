{
  "nbformat": 4,
  "nbformat_minor": 0,
  "metadata": {
    "colab": {
      "name": "Untitled0.ipynb",
      "version": "0.3.2",
      "provenance": [],
      "collapsed_sections": [],
      "toc_visible": true,
      "include_colab_link": true
    },
    "kernelspec": {
      "name": "python3",
      "display_name": "Python 3"
    }
  },
  "cells": [
    {
      "cell_type": "markdown",
      "metadata": {
        "id": "view-in-github",
        "colab_type": "text"
      },
      "source": [
        "[View in Colaboratory](https://colab.research.google.com/github/hjjimmykim/prospectiveporpoise/blob/master/Untitled0.ipynb)"
      ]
    },
    {
      "metadata": {
        "id": "yqVAD3zsUzb7",
        "colab_type": "text"
      },
      "cell_type": "markdown",
      "source": [
        "LOLA\n",
        "\n",
        "Ideas:\n",
        "1. RL vs. RL (multiagent)\n",
        "2. Communication channel (pre-set? deception?)\n",
        "3. LSTM stacked on FWN\n",
        "4. Induce RL to learn ZD-strategy (learn probabilities?)\n",
        "5. RL that adapts to opponent's non-stationary strategy"
      ]
    },
    {
      "metadata": {
        "id": "YjYwbRfHUrrr",
        "colab_type": "text"
      },
      "cell_type": "markdown",
      "source": [
        "# Libraries"
      ]
    },
    {
      "metadata": {
        "id": "N4ZntShaPaC7",
        "colab_type": "code",
        "colab": {
          "base_uri": "https://localhost:8080/",
          "height": 52
        },
        "outputId": "e4d967cb-68ba-48fe-b129-5da061dfb02f"
      },
      "cell_type": "code",
      "source": [
        "%load_ext autoreload\n",
        "%autoreload 2\n",
        "\n",
        "# Standard\n",
        "import numpy as np\n",
        "import matplotlib.pyplot as plt\n",
        "import copy\n",
        "import time"
      ],
      "execution_count": 214,
      "outputs": [
        {
          "output_type": "stream",
          "text": [
            "The autoreload extension is already loaded. To reload it, use:\n",
            "  %reload_ext autoreload\n"
          ],
          "name": "stdout"
        }
      ]
    },
    {
      "metadata": {
        "id": "kJYoceXaSPXt",
        "colab_type": "text"
      },
      "cell_type": "markdown",
      "source": [
        "# Parameters"
      ]
    },
    {
      "metadata": {
        "id": "iGsR8Ug0SAq1",
        "colab_type": "code",
        "colab": {}
      },
      "cell_type": "code",
      "source": [
        "#Reward structure\n",
        "T = 5 # Temptation\n",
        "R = 3 # Reward\n",
        "P = 1 # Penalty\n",
        "S = 0 # Sucker\n",
        "\n",
        "# Reward matrix (0 = cooperate, 1 = defect)\n",
        "RM = np.zeros([2,2])\n",
        "RM[0][0] = R\n",
        "RM[0][1] = S\n",
        "RM[1][0] = T\n",
        "RM[1][1] = P\n",
        "\n",
        "# RL\n",
        "gamma = 0.3 # Decay rate\n",
        "alpha = 0.005 # Learning rate\n",
        "\n",
        "# Simulation\n",
        "n_steps = 300      # Training steps\n",
        "n_turns = 10       # Turns in the test game\n",
        "n_rec = 50        # For printing purposes"
      ],
      "execution_count": 0,
      "outputs": []
    },
    {
      "metadata": {
        "id": "9eX1tZFMXYgU",
        "colab_type": "text"
      },
      "cell_type": "markdown",
      "source": [
        "# Models"
      ]
    },
    {
      "metadata": {
        "id": "qTQSw7yQgSpw",
        "colab_type": "code",
        "colab": {}
      },
      "cell_type": "code",
      "source": [
        "# Converts action-pair [a1,a2] into a scalar state (0,1,2,3,4)\n",
        "def action_to_state(a1,a2):\n",
        "  \n",
        "  if a1 == -1 and a2 == -1: # Initial\n",
        "    s = 0\n",
        "  elif a1 == 0 and a2 == 0: # CC\n",
        "    s = 1\n",
        "  elif a1 == 0 and a2 == 1: # CD\n",
        "    s = 2\n",
        "  elif a1 == 1 and a2 == 0: # DC\n",
        "    s = 3\n",
        "  elif a1 == 1 and a2 == 1: # DD\n",
        "    s = 4\n",
        "    \n",
        "  return s"
      ],
      "execution_count": 0,
      "outputs": []
    },
    {
      "metadata": {
        "id": "NDCUTuUnk6uh",
        "colab_type": "code",
        "colab": {}
      },
      "cell_type": "code",
      "source": [
        "def mathematica2py(input = 'V.txt', ID_me=1, ID_otherguy=2):\n",
        "    f = open(input)\n",
        "\n",
        "    text = f.read()\n",
        "\n",
        "    text = ''.join(text.split()) # Remove whitespace\n",
        "    text = text.replace('^','**') # Replace ^ with **\n",
        "    \n",
        "    '''\n",
        "    text = text.replace('a0','p' + str(ID_me) + '[0]')\n",
        "    text = text.replace('a1','p' + str(ID_me) + '[1]')\n",
        "    text = text.replace('a2','p' + str(ID_me) + '[2]')\n",
        "    text = text.replace('a3','p' + str(ID_me) + '[3]')\n",
        "    text = text.replace('a4','p' + str(ID_me) + '[4]')\n",
        "    \n",
        "    text = text.replace('b0','p' + str(ID_otherguy) + '[0]')\n",
        "    text = text.replace('b1','p' + str(ID_otherguy) + '[1]')\n",
        "    text = text.replace('b2','p' + str(ID_otherguy) + '[2]')\n",
        "    text = text.replace('b3','p' + str(ID_otherguy) + '[3]')\n",
        "    text = text.replace('b4','p' + str(ID_otherguy) + '[4]')\n",
        "    '''\n",
        "\n",
        "    num_terms = text.count('{')\n",
        "\n",
        "    # Extract terms and get rid of curly braces\n",
        "    terms = []\n",
        "    while text.find('}') > -1:\n",
        "        cut_point = text.find('}')\n",
        "        terms.append(text[:cut_point].strip('{'))\n",
        "        text = text[cut_point+1:]\n",
        "        \n",
        "    return terms"
      ],
      "execution_count": 0,
      "outputs": []
    },
    {
      "metadata": {
        "id": "SO2KyLlmpnAY",
        "colab_type": "code",
        "colab": {}
      },
      "cell_type": "code",
      "source": [
        "def evaluate_gradient(dV, a, b):\n",
        "  # dV = output of mathematica2py\n",
        "  # a = my policy\n",
        "  # b = other guy's policy\n",
        "  \n",
        "  a0 = a[0]\n",
        "  a1 = a[1]\n",
        "  a2 = a[2]\n",
        "  a3 = a[3]\n",
        "  a4 = a[4]\n",
        "  \n",
        "  b0 = b[0]\n",
        "  b1 = b[1]\n",
        "  b2 = b[2]\n",
        "  b3 = b[3]\n",
        "  b4 = b[4]\n",
        "  \n",
        "  return eval(dV)"
      ],
      "execution_count": 0,
      "outputs": []
    },
    {
      "metadata": {
        "id": "S4Sie6LRi6j4",
        "colab_type": "code",
        "colab": {
          "base_uri": "https://localhost:8080/",
          "height": 52
        },
        "outputId": "bb640c70-53e1-4dae-a114-7492122b9119"
      },
      "cell_type": "code",
      "source": [
        "V = mathematica2py('V.txt') # Value function (5 elements for each state)\n",
        "\n",
        "# Gradients\n",
        "DVme = [] # w.r.t. my parameters (ai's)\n",
        "for i in range(5):\n",
        "  DVme.append(mathematica2py('DVa' + str(i) + '.txt'))\n",
        "  \n",
        "DVotherguy = [] # w.r.t. other guy's parameters (bi's)\n",
        "for i in range(5):\n",
        "  DVotherguy.append(mathematica2py('DVb' + str(i) + '.txt'))\n",
        "\n",
        "p1 = [1,1,1,1,1]\n",
        "# Win-stay-lose-shift\n",
        "#p2 = [1,1,0,0,1]\n",
        "# Tit-for-tat\n",
        "p2 = [1,1,1,0,0]\n",
        "\n",
        "# DVme[i][j] = Gradient of state j value function with respect to a_i\n",
        "# DVotherguy[i][j] = Gradient of state j value function with respect to b_i\n",
        "\n",
        "#print(evaluate_gradient(DVme[0][0], p1, p2))\n",
        "\n",
        "print(p1)\n",
        "print(p2)"
      ],
      "execution_count": 219,
      "outputs": [
        {
          "output_type": "stream",
          "text": [
            "[1, 1, 1, 1, 1]\n",
            "[1, 1, 1, 0, 0]\n"
          ],
          "name": "stdout"
        }
      ]
    },
    {
      "metadata": {
        "id": "pUxFvSmTUOfL",
        "colab_type": "text"
      },
      "cell_type": "markdown",
      "source": [
        "# Game"
      ]
    },
    {
      "metadata": {
        "id": "K3POCMTwgz6T",
        "colab_type": "code",
        "colab": {
          "base_uri": "https://localhost:8080/",
          "height": 870
        },
        "outputId": "aee1917a-5614-450d-f55f-b70eff12d04d"
      },
      "cell_type": "code",
      "source": [
        "t_start = time.time()\n",
        "t1 = time.time()\n",
        "\n",
        "# Gradient ascent\n",
        "for i_ep in range(n_steps):\n",
        "  for i_pol in range(5):\n",
        "      for j_pol in range(5):\n",
        "        p1[i_pol] = p1[i_pol] + alpha*evaluate_gradient(DVme[i_pol][j_pol],p1,p2)\n",
        "        p1[i_pol] = min(1,p1[i_pol])\n",
        "        p1[i_pol] = max(0,p1[i_pol])\n",
        "        \n",
        "  if i_ep % n_rec == 0 and i_ep != 0: \n",
        "    t2 = time.time()\n",
        "    print('-----------------------------')\n",
        "    print('Episode ' + str(i_ep))\n",
        "    print(p1)\n",
        "    print('Runtime for episodes ' + str(i_ep - n_rec) + '-' + str(i_ep) + ': ' + str(t2-t1) + ' s')\n",
        "    print('-----------------------------')\n",
        "    t1 = t2\n",
        "\n",
        "# Test game\n",
        "\n",
        "# Keep track of rewards\n",
        "rewards1 = np.zeros([n_turns,1])\n",
        "rewards2 = np.zeros([n_turns,1])\n",
        "\n",
        "# Keep track of actions\n",
        "actions1 = np.zeros([n_turns,1])\n",
        "actions2 = np.zeros([n_turns,1])\n",
        "\n",
        "# Initial state\n",
        "s = 0\n",
        "\n",
        "for i_turn in range(n_turns):\n",
        "\n",
        "  # Choose action\n",
        "  # 0 = cooperate, 1 = defect\n",
        "  a1 = int(np.random.rand(1) > p1[s])\n",
        "  a2 = int(np.random.rand(1) > p2[s])\n",
        "  \n",
        "  actions1[i_turn] = a1\n",
        "  actions2[i_turn] = a2\n",
        "\n",
        "  # Get rewards\n",
        "  r1 = RM[a1][a2]\n",
        "  r2 = RM[a2][a1]\n",
        "\n",
        "  rewards1[i_turn] = r1\n",
        "  rewards2[i_turn] = r2\n",
        "\n",
        "  # Update the state\n",
        "  s = action_to_state(a1,a2)\n",
        "\n",
        "print(actions1)\n",
        "print(actions2)\n",
        "print(np.sum(rewards1))\n",
        "print(np.sum(rewards2))\n",
        "  \n",
        "print('Total runtime: ' + str(time.time() - t_start) + ' s')"
      ],
      "execution_count": 220,
      "outputs": [
        {
          "output_type": "stream",
          "text": [
            "-----------------------------\n",
            "Episode 50\n",
            "[0.918473030829616, 0.8049002642175533, 0.867019606332027, 0.9936259099039279, 0.9942292875258619]\n",
            "Runtime for episodes 0-50: 5.866816520690918 s\n",
            "-----------------------------\n",
            "-----------------------------\n",
            "Episode 100\n",
            "[0.8427770247682157, 0.6432555511623597, 0.7392199942117487, 0.9904277372849505, 0.99175195055795]\n",
            "Runtime for episodes 50-100: 5.747097015380859 s\n",
            "-----------------------------\n",
            "-----------------------------\n",
            "Episode 150\n",
            "[0.7702362184506694, 0.5035390354389285, 0.6133014148902511, 0.9908179843982909, 0.9919970344798492]\n",
            "Runtime for episodes 100-150: 5.766766309738159 s\n",
            "-----------------------------\n",
            "-----------------------------\n",
            "Episode 200\n",
            "[0.7001545357852003, 0.3811118467861153, 0.4886793321202194, 0.9951223289284558, 0.9946647748566267]\n",
            "Runtime for episodes 150-200: 5.75872802734375 s\n",
            "-----------------------------\n",
            "-----------------------------\n",
            "Episode 250\n",
            "[0.6320265197080505, 0.27285305436525525, 0.3648375630362138, 1, 0.9995249261618121]\n",
            "Runtime for episodes 200-250: 5.767412424087524 s\n",
            "-----------------------------\n",
            "[[1.]\n",
            " [0.]\n",
            " [1.]\n",
            " [0.]\n",
            " [0.]\n",
            " [0.]\n",
            " [0.]\n",
            " [1.]\n",
            " [0.]\n",
            " [1.]]\n",
            "[[0.]\n",
            " [1.]\n",
            " [0.]\n",
            " [1.]\n",
            " [0.]\n",
            " [0.]\n",
            " [0.]\n",
            " [0.]\n",
            " [1.]\n",
            " [0.]]\n",
            "29.0\n",
            "24.0\n",
            "Total runtime: 34.553863525390625 s\n"
          ],
          "name": "stdout"
        }
      ]
    },
    {
      "metadata": {
        "id": "Va0YJ3VLritj",
        "colab_type": "code",
        "colab": {
          "base_uri": "https://localhost:8080/",
          "height": 34
        },
        "outputId": "c4498e98-928c-4dac-fd81-9fb5113605e0"
      },
      "cell_type": "code",
      "source": [
        "p1"
      ],
      "execution_count": 221,
      "outputs": [
        {
          "output_type": "execute_result",
          "data": {
            "text/plain": [
              "[0.5667951250434425, 0.1784254256413493, 0.24403264267352265, 1, 1]"
            ]
          },
          "metadata": {
            "tags": []
          },
          "execution_count": 221
        }
      ]
    },
    {
      "metadata": {
        "id": "f-81SgwWwaQs",
        "colab_type": "code",
        "colab": {
          "base_uri": "https://localhost:8080/",
          "height": 34
        },
        "outputId": "bfe52aa2-b62f-4367-fc2f-26f39e9eb8e1"
      },
      "cell_type": "code",
      "source": [
        "p2"
      ],
      "execution_count": 222,
      "outputs": [
        {
          "output_type": "execute_result",
          "data": {
            "text/plain": [
              "[1, 1, 1, 0, 0]"
            ]
          },
          "metadata": {
            "tags": []
          },
          "execution_count": 222
        }
      ]
    },
    {
      "metadata": {
        "id": "lZvbOUKgV3U7",
        "colab_type": "code",
        "colab": {
          "base_uri": "https://localhost:8080/",
          "height": 34
        },
        "outputId": "29d8fbec-657b-40cb-d22c-5adbc5500be0"
      },
      "cell_type": "code",
      "source": [
        "s2"
      ],
      "execution_count": 223,
      "outputs": [
        {
          "output_type": "execute_result",
          "data": {
            "text/plain": [
              "1"
            ]
          },
          "metadata": {
            "tags": []
          },
          "execution_count": 223
        }
      ]
    },
    {
      "metadata": {
        "id": "7xAn1DrQV5Qw",
        "colab_type": "code",
        "colab": {
          "base_uri": "https://localhost:8080/",
          "height": 194
        },
        "outputId": "9360eebc-9645-47ac-962f-46ae914d6c9a"
      },
      "cell_type": "code",
      "source": [
        "actions2"
      ],
      "execution_count": 224,
      "outputs": [
        {
          "output_type": "execute_result",
          "data": {
            "text/plain": [
              "array([[0.],\n",
              "       [1.],\n",
              "       [0.],\n",
              "       [1.],\n",
              "       [0.],\n",
              "       [0.],\n",
              "       [0.],\n",
              "       [0.],\n",
              "       [1.],\n",
              "       [0.]])"
            ]
          },
          "metadata": {
            "tags": []
          },
          "execution_count": 224
        }
      ]
    },
    {
      "metadata": {
        "id": "aMCrtfet_VjI",
        "colab_type": "code",
        "colab": {}
      },
      "cell_type": "code",
      "source": [
        ""
      ],
      "execution_count": 0,
      "outputs": []
    }
  ]
}