{
  "nbformat": 4,
  "nbformat_minor": 0,
  "metadata": {
    "colab": {
      "name": "Untitled0.ipynb",
      "version": "0.3.2",
      "provenance": [],
      "collapsed_sections": [],
      "include_colab_link": true
    },
    "kernelspec": {
      "name": "python3",
      "display_name": "Python 3"
    }
  },
  "cells": [
    {
      "cell_type": "markdown",
      "metadata": {
        "id": "view-in-github",
        "colab_type": "text"
      },
      "source": [
        "<a href=\"https://colab.research.google.com/github/hjjimmykim/prospectiveporpoise/blob/master/PolicyGradient.ipynb\" target=\"_parent\"><img src=\"https://colab.research.google.com/assets/colab-badge.svg\" alt=\"Open In Colab\"/></a>"
      ]
    },
    {
      "metadata": {
        "id": "3xi3IyEOfonl",
        "colab_type": "code",
        "colab": {}
      },
      "cell_type": "code",
      "source": [
        "%load_ext autoreload\n",
        "%autoreload 2\n",
        "\n",
        "# Standard\n",
        "import numpy as np\n",
        "import matplotlib.pyplot as plt\n",
        "import copy\n",
        "import time\n",
        "import sympy as sp\n",
        "from scipy.optimize import fsolve"
      ],
      "execution_count": 0,
      "outputs": []
    },
    {
      "metadata": {
        "id": "JpI2HoNbaKy7",
        "colab_type": "code",
        "outputId": "7f8fee5a-c4a3-4990-913e-965a7a51c0e9",
        "colab": {
          "base_uri": "https://localhost:8080/",
          "height": 114
        }
      },
      "cell_type": "code",
      "source": [
        "# http://pytorch.org/\n",
        "from os.path import exists\n",
        "from wheel.pep425tags import get_abbr_impl, get_impl_ver, get_abi_tag\n",
        "platform = '{}{}-{}'.format(get_abbr_impl(), get_impl_ver(), get_abi_tag())\n",
        "cuda_output = !ldconfig -p|grep cudart.so|sed -e 's/.*\\.\\([0-9]*\\)\\.\\([0-9]*\\)$/cu\\1\\2/'\n",
        "accelerator = cuda_output[0] if exists('/dev/nvidia0') else 'cpu'\n",
        "\n",
        "!pip install -q http://download.pytorch.org/whl/{accelerator}/torch-0.4.1-{platform}-linux_x86_64.whl torchvision\n",
        "import torch"
      ],
      "execution_count": 0,
      "outputs": [
        {
          "output_type": "stream",
          "text": [
            "\u001b[K    100% |████████████████████████████████| 91.1MB 123.5MB/s \n",
            "\u001b[K    100% |████████████████████████████████| 2.0MB 11.3MB/s \n",
            "\u001b[31mfastai 1.0.42 has requirement torch>=1.0.0, but you'll have torch 0.4.1 which is incompatible.\u001b[0m\n",
            "\u001b[31mOperation cancelled by user\u001b[0m\n",
            "\u001b[?25h"
          ],
          "name": "stdout"
        }
      ]
    },
    {
      "metadata": {
        "id": "emAHwlnmfsmF",
        "colab_type": "code",
        "colab": {}
      },
      "cell_type": "code",
      "source": [
        "\n",
        "# RL\n",
        "\n",
        "gamma1 = 0# Decay rate\n",
        "alpha1 = 0.1 # Learning rate\n",
        "beta1 = 0.5   # Exploitation rate\n",
        "gamma2 = 0 # Decay rate\n",
        "alpha2 = 0.1 # Learning rate\n",
        "beta2 = 0.5 # Exploitation rate\n",
        "\n",
        "\n",
        "# Simulation\n",
        "n_batch = 100 # Batch size\n",
        "n_eps = 3       # Training episodes\n",
        "n_steps = 10000 # Training steps\n",
        "n_turns = 10000       # Turns in the test game\n",
        "n_rec = n_steps/10       # For printing purposes\n",
        "\n",
        "#Prosocial - delta is the magnitude of prosociality 1 = Prosocial 0 = Selfish\n",
        "delta1 = 0.0\n",
        "delta2 = 0.0\n",
        "\n",
        "#Policy Gradient (REINFORCE)\n",
        "num_agents = 2\n",
        "smoothing_const = 0.7\n",
        "\n",
        "t_change = 0\n",
        "count = 10"
      ],
      "execution_count": 0,
      "outputs": []
    },
    {
      "metadata": {
        "id": "oEicii4Jf1Qr",
        "colab_type": "code",
        "colab": {}
      },
      "cell_type": "code",
      "source": [
        "def initialize():\n",
        "  # Reward matrix (0 = left, 1 = right)\n",
        "  # 1st coord. = Agent receiving the reward\n",
        "  \n",
        "  # 2nd coord. = State\n",
        "  # 3rd coord. = Agent 1 action\n",
        "  # 4th coord. = Agent 2 action\n",
        "\n",
        "  RM = np.zeros([2,2,2,2])\n",
        "\n",
        "  #Stag Hunt\n",
        "  #0 = Hunt\n",
        "  #1 = Forage\n",
        "  \n",
        "  RM[0][0][0][0] = 2\n",
        "  RM[0][0][0][1] = -0.0\n",
        "  RM[0][0][1][0] = 1\n",
        "  RM[0][0][1][1] = 1\n",
        "  RM[0][1][0][0] = 0\n",
        "  RM[0][1][0][1] = 0\n",
        "  RM[0][1][1][0] = 0\n",
        "  RM[0][1][1][1] = 0\n",
        "\n",
        "  RM[1][0][0][0] = 2\n",
        "  RM[1][0][0][1] = 1\n",
        "  RM[1][0][1][0] = -0.0\n",
        "  RM[1][0][1][1] = 1\n",
        "  RM[1][1][0][0] = 0\n",
        "  RM[1][1][0][1] = 0\n",
        "  RM[1][1][1][0] = 0\n",
        "  RM[1][1][1][1] = 0\n",
        "  \n",
        "  # Transition probabilities\n",
        "  # 1st coord. = State\n",
        "  # 2nd coord. = Agent 1 action\n",
        "  # 3rd coord. = Agent 2 action\n",
        "  T = np.zeros([2,2,2])\n",
        "\n",
        "  \n",
        "  # One-state\n",
        "  T[0][0][0] = 0\n",
        "  T[0][0][1] = 0\n",
        "  T[0][1][0] = 0\n",
        "  T[0][1][1] = 0\n",
        "\n",
        "  T[1][0][0] = 0\n",
        "  T[1][0][1] = 0\n",
        "  T[1][1][0] = 0\n",
        "  T[1][1][1] = 0\n",
        "\n",
        "  # Q-value\n",
        "  # 1st coord. = Agent id\n",
        "  # 2nd coord. = State\n",
        "  # 3rd coord. = Action\n",
        "  Q = np.zeros([2,2,2])\n",
        "\n",
        "  # Initial condition\n",
        "  Q[0][0][0] = 1/beta1 * np.log(0.3)\n",
        "  Q[0][0][1] = 1/beta1 * np.log(0.7)\n",
        "  Q[0][1][0] = 1/beta1 * np.log(0.4)\n",
        "  Q[0][1][1] = 1/beta1 * np.log(0.6)\n",
        "\n",
        "  Q[1][0][0] = 1/beta2 * np.log(0.7)\n",
        "  Q[1][0][1] = 1/beta2 * np.log(0.3)\n",
        "  Q[1][1][0] = 1/beta2 * np.log(0.7)\n",
        "  Q[1][1][1] = 1/beta2 * np.log(0.3)\n",
        " \n",
        "  return RM, T, Q\n",
        "\n",
        "def softmax(Q,beta1,beta2):\n",
        "  X = np.reshape(Q,[4,2]) # Row = agent & state pair; col = action\n",
        "  X_beta = X * np.array([[beta1,beta1,beta2,beta2]]).transpose() # Betas should multiply by agents\n",
        "  \n",
        "  X1 = np.exp(X_beta[:,0])/np.sum(np.exp(X_beta),1)\n",
        "  X2 = np.exp(X_beta[:,1])/np.sum(np.exp(X_beta),1)\n",
        "  \n",
        "  X = np.vstack([X1,X2])\n",
        "  \n",
        "  return np.reshape(X.transpose(),[2,2,2])\n",
        "\n",
        "# For RM\n",
        "def det_avg(F, X, T, i, s, a):\n",
        "  # Calculate deterministic average over next states s' given current state s & your (i.e. agent i) action a\n",
        "  # Must average over other agent's actions a_j\n",
        "  \n",
        "  # F = quantity to be averaged over\n",
        "  # We need F(a_j) for all other agent actions a_j\n",
        "  # X = behavior profile of the other agent j.\n",
        "  # We need X(j,s,a_j) for all possible actions a_j\n",
        "  # T = transition matrix\n",
        "  # We need T(s,a,a_j,s') for all actions a_j and next states s'\n",
        "  \n",
        "  j = int(not(i)) # The other agent\n",
        "  \n",
        "  # Term 1: a_j=0 and next state=1\n",
        "  # Term 2: a_j=0 and next state=0\n",
        "  # Term 3: a_j=1 and next state=0\n",
        "  # Term 4: a_j=1 and next state=1\n",
        "  \n",
        "  if s == 0:\n",
        "      return X[0] * T[0] * F[0] \\\n",
        "      + X[0] * (1 - T[0]) * F[0] \\\n",
        "      + X[1] * T[1] * F[1] \\\n",
        "      + X[1] * (1 - T[1]) * F[1]\n",
        "  elif s == 1:\n",
        "      return X[0] * (1 - T[0]) * F[0] \\\n",
        "      + X[0] * T[0] * F[0] \\\n",
        "      + X[1] * (1 - T[1]) * F[1] \\\n",
        "      + X[1] * T[1] * F[1]\n",
        "\n",
        "# For max Q\n",
        "def det_avg2(F, X, T, i, s, a):\n",
        "  # Calculate deterministic average over next states s' given current state s & your (i.e. agent i) action a\n",
        "  # Must average over other agent's actions a_j\n",
        "  \n",
        "  # F = quantity to be averaged over\n",
        "  # We need F(s') for all next states s'\n",
        "  # X = behavior profile of the other agent j.\n",
        "  # We need X(j,s,a_j) for all possible actions a_j\n",
        "  # T = transition matrix\n",
        "  # We need T(s,a,a_j,s') for all actions a_j and next states s'\n",
        "  \n",
        "  j = int(not(i)) # The other agent\n",
        "  \n",
        "  # Term 1: a_j=0 and next state=1\n",
        "  # Term 2: a_j=0 and next state=0\n",
        "  # Term 3: a_j=1 and next state=0\n",
        "  # Term 4: a_j=1 and next state=1\n",
        "  \n",
        "  if s == 0:\n",
        "      return X[0] * T[0] * F[1] \\\n",
        "      + X[0] * (1 - T[0]) * F[0] \\\n",
        "      + X[1] * T[1] * F[1] \\\n",
        "      + X[1] * (1 - T[1]) * F[0]\n",
        "  elif s == 1:\n",
        "      return X[0] * (1 - T[0]) * F[1] \\\n",
        "      + X[0] * T[0] * F[0] \\\n",
        "      + X[1] * (1 - T[1]) * F[1] \\\n",
        "      + X[1] * T[1] * F[0]\n",
        "  \n",
        "RM, T, Q = initialize()"
      ],
      "execution_count": 0,
      "outputs": []
    },
    {
      "metadata": {
        "id": "Dhc08sgUOrLT",
        "colab_type": "code",
        "colab": {}
      },
      "cell_type": "code",
      "source": [
        "def Q_learning(n_steps,beta1,beta2,RM,T,Q):\n",
        "  \n",
        "  t_start = time.time()\n",
        "  t1 = time.time()\n",
        "\n",
        "  # TD storage\n",
        "  TD1 = np.zeros([2,2])\n",
        "  TD2 = np.zeros([2,2])\n",
        "\n",
        "  # Initial state\n",
        "  s = 0\n",
        "\n",
        "  #Initial V\n",
        "  # coords = agent id, state\n",
        "  V = np.zeros([2,2])\n",
        "\n",
        "  # Save p1_s and p2_s trajectory\n",
        "  p1_1 = []\n",
        "  p1_2 = []\n",
        "  p2_1 = []\n",
        "  p2_2 = []\n",
        "  t1_list = []\n",
        "  t2_list = []\n",
        "\n",
        "  # Save reward\n",
        "  r1_list = []\n",
        "  r2_list = []\n",
        "  r_total_1 = 0\n",
        "  r_total_2 = 0\n",
        "\n",
        "  for i_ep in range(n_steps):\n",
        "    # Behavior profile\n",
        "      X = softmax(Q,beta1,beta2)\n",
        "\n",
        "      # Action selection\n",
        "      #p1 = np.exp(beta1*Q[0][s][0])/np.sum(np.exp(beta1*Q[0][s]))\n",
        "      p1 = X[0][s][0]\n",
        "      if p1 > np.random.random():\n",
        "        a1 = 0\n",
        "      else:\n",
        "        a1 = 1\n",
        "\n",
        "      #p2 = np.exp(beta2*Q[1][s][0])/np.sum(np.exp(beta2*Q[1][s]))\n",
        "      p2 = X[1][s][0]\n",
        "      if p2 > np.random.random():\n",
        "        a2 = 0\n",
        "      else:\n",
        "        a2 = 1\n",
        "\n",
        "      # Save p1_s & p2_s trajectory\n",
        "      if s == 0:\n",
        "        p1_1.append(p1)\n",
        "        p2_1.append(p2)\n",
        "        t1_list.append(i_ep)\n",
        "      else:\n",
        "        p1_2.append(p1)\n",
        "        p2_2.append(p2)\n",
        "        t2_list.append(i_ep)\n",
        "\n",
        "      # Rewards\n",
        "      r1 = (1-delta1)*RM[0][s][a1,a2] + delta1*RM[1][s][a1,a2]\n",
        "      r2 = (1-delta2)*RM[1][s][a1,a2] + delta2*RM[0][s][a1,a2]\n",
        "\n",
        "      r_total_1 += r1\n",
        "      r_total_2 += r2\n",
        "\n",
        "      # Save them\n",
        "\n",
        "\n",
        "      # State transition\n",
        "      s_old = s # Keep track of this for learning\n",
        "      if T[s][a1][a2] > np.random.random():\n",
        "\n",
        "        s = int(not(s))\n",
        "\n",
        "\n",
        "\n",
        "      # TD learning --------------------------------------------------------------\n",
        "\n",
        "      TD1[s_old][a1] += (1-gamma1) * r1 + gamma1 * np.max(Q[0][s]) - Q[0][s_old][a1]\n",
        "      TD2[s_old][a2] += (1-gamma2) * r2 + gamma2 * np.max(Q[1][s]) - Q[1][s_old][a2] # Q-learning\n",
        "\n",
        "      # Q-value and V update \n",
        "      if (i_ep+1) % n_batch == 0:\n",
        "\n",
        "          Q[0] = Q[0] + alpha1*TD1/n_batch\n",
        "          Q[1] = Q[1] + alpha2*TD2/n_batch\n",
        "\n",
        "          TD1 = np.zeros([2,2])\n",
        "          TD2 = np.zeros([2,2])\n",
        "\n",
        "          r_list_1 = r_total_1/n_batch\n",
        "          r_list_2 = r_total_2/n_batch\n",
        "\n",
        "          r1_list.append(r_list_1)\n",
        "          r2_list.append(r_list_2)\n",
        "\n",
        "          r_total_1 = 0\n",
        "          r_total_2 = 0 \n",
        "          \n",
        "          if i_ep % n_rec == 0 and i_ep != 0: \n",
        "          # Time stuff\n",
        "            t2 = time.time()\n",
        "            print('-----------------------------')\n",
        "            print('Episode ' + str(i_ep))\n",
        "            print('Runtime for episodes ' + str(i_ep - n_rec) + '-' + str(i_ep) + ': ' + str(t2-t1) + ' s')\n",
        "            t1 = t2\n",
        "\n",
        "            print('-----------------------------')\n",
        "          \n",
        "  return p1_1,p2_1,r1_list,r2_list\n"
      ],
      "execution_count": 0,
      "outputs": []
    },
    {
      "metadata": {
        "id": "Ol-BkspGgQmA",
        "colab_type": "code",
        "colab": {}
      },
      "cell_type": "code",
      "source": [
        "RM, T, Q = initialize()\n",
        "\n",
        "p1_1,p2_1,r1_list,r2_list = Q_learning(n_steps,beta1,beta2,RM,T,Q)\n"
      ],
      "execution_count": 0,
      "outputs": []
    },
    {
      "metadata": {
        "id": "RSnkbdUNk3lp",
        "colab_type": "code",
        "outputId": "e81e9a33-a7a5-466f-a736-9bddf0cee2e5",
        "colab": {
          "base_uri": "https://localhost:8080/",
          "height": 812
        }
      },
      "cell_type": "code",
      "source": [
        "orange = '#ff8c13'\n",
        "blue = '#0d3692'\n",
        "\n",
        "plt.figure(facecolor = 'white')\n",
        "plt.style.use('classic')\n",
        "#plt.axis('square')\n",
        "\n",
        "plt.plot(p1_1,p2_1,blue,linewidth=4)\n",
        "plt.plot(p1_1[0],p2_1[0],'bo',markersize=10) # Initial\n",
        "plt.plot(p1_1[-1],p2_1[-1],'ro',markersize=10) # Final\n",
        "\n",
        "\n",
        "plt.xlim(0,1)\n",
        "plt.ylim(0,1)\n",
        "\n",
        "# Reward plot ------------------------------------------------------------------\n",
        "\n",
        "plt.figure()\n",
        "plt.plot(r1_list,\"r-\", label = 'Agent 1')\n",
        "plt.plot(r2_list,\"b-\", label = 'Agent 2')\n",
        "plt.legend(loc = 'upper right')\n",
        "plt.xlabel('Iteration')\n",
        "plt.ylabel('Reward')"
      ],
      "execution_count": 0,
      "outputs": [
        {
          "output_type": "execute_result",
          "data": {
            "text/plain": [
              "Text(0, 0.5, 'Reward')"
            ]
          },
          "metadata": {
            "tags": []
          },
          "execution_count": 6
        },
        {
          "output_type": "display_data",
          "data": {
            "image/png": "[encoded data removed]",
            "text/plain": [
              "<Figure size 576x396 with 1 Axes>"
            ]
          },
          "metadata": {
            "tags": []
          }
        },
        {
          "output_type": "display_data",
          "data": {
            "image/png": "[encoded data removed]",
            "text/plain": [
              "<Figure size 640x480 with 1 Axes>"
            ]
          },
          "metadata": {
            "tags": []
          }
        }
      ]
    },
    {
      "metadata": {
        "id": "Cgtabae5ccTK",
        "colab_type": "code",
        "colab": {}
      },
      "cell_type": "code",
      "source": [
        "#PyTorch\n",
        "import torch\n",
        "\n",
        "# Optimizer\n",
        "import torch\n",
        "from torch import autograd\n",
        "from torch.autograd import Variable\n",
        "import torch.nn as nn\n",
        "import torch.nn.functional as F\n",
        "\n",
        "import torch.optim as optim\n",
        "\n",
        "learning_rate = 0.1\n",
        "\n",
        "\n",
        "class Policy(nn.Module):\n",
        "  def __init__(self, input_dim = 1, output_dim = 1):\n",
        "      super(Policy, self).__init__()\n",
        "\n",
        "      self.input_dim = input_dim\n",
        "      self.output_dim = output_dim\n",
        "\n",
        "      self.ff = nn.Linear(1, 1, bias=True)\n",
        "\n",
        "      # Episode policy and reward history \n",
        "      self.policy_history = Variable(torch.Tensor()) \n",
        "      self.reward_episode = []\n",
        "      # Overall reward and loss history\n",
        "      self.reward_history = []\n",
        "      self.loss_history = []\n",
        "\n",
        "  def forward(self, x):    \n",
        "      model = nn.Sequential(self.ff,nn.Sigmoid())\n",
        "      #model = self.ff(x)\n",
        "      #r = nn.ReLU(model, inplace=False)\n",
        "      \n",
        "      return model(x)\n",
        "    \n",
        "def softmax(x,beta):\n",
        "  X = x.clone()\n",
        "  X_beta = X * beta # Betas should multiply by agents\n",
        "  \n",
        "  X1 = torch.exp(X_beta[0])/torch.sum(torch.exp(X_beta))\n",
        "  X2 = torch.exp(X_beta[1])/torch.sum(torch.exp(X_beta))\n",
        "  \n",
        "  \n",
        "  return X1,X2\n",
        "\n",
        "  \n",
        "def REINFORCE(p,r,b):\n",
        "  rl = -torch.log(p) * (r-b)\n",
        "  \n",
        "  return rl\n",
        "\n",
        "  "
      ],
      "execution_count": 0,
      "outputs": []
    },
    {
      "metadata": {
        "id": "8FV7K_SulkGG",
        "colab_type": "code",
        "outputId": "313bcc83-663d-41b8-db21-2dfcfcca9d51",
        "colab": {
          "base_uri": "https://localhost:8080/",
          "height": 510
        }
      },
      "cell_type": "code",
      "source": [
        "#PyTorch\n",
        "import torch\n",
        "\n",
        "# Optimizer\n",
        "import torch\n",
        "from torch import autograd\n",
        "from torch.autograd import Variable\n",
        "import torch.nn as nn\n",
        "import torch.nn.functional as F\n",
        "\n",
        "import torch.optim as optim\n",
        "\n",
        "\n",
        "#dims\n",
        "input_dim = 1\n",
        "output_dim = 1\n",
        "\n",
        "#State\n",
        "s = 0\n",
        "\n",
        "#Initial actions\n",
        "a1 = torch.zeros(input_dim, requires_grad=True)\n",
        "a2 = torch.zeros(input_dim, requires_grad=True)\n",
        "\n",
        "# Save p1_s and p2_s trajectory\n",
        "p1_1 = []\n",
        "p2_1 = []\n",
        "\n",
        "# Save reward\n",
        "r1 = torch.zeros(input_dim, requires_grad=True)\n",
        "r2 = torch.zeros(input_dim, requires_grad=True)\n",
        "r1_list = []\n",
        "r2_list = []\n",
        "r_total = torch.zeros([num_agents,input_dim], requires_grad=True)\n",
        "r_mean = torch.zeros([num_agents,input_dim], requires_grad=True)\n",
        "\n",
        "\n",
        "# Initialize agents\n",
        "Agents = []\n",
        "for i in range(num_agents):\n",
        "    Agents.append(Policy())\n",
        "\n",
        "#Initialize baselines\n",
        "baselines = [0 for _ in range(num_agents+1)]\n",
        "\n",
        "# Initialize loss\n",
        "losses = []\n",
        "for i in range(num_agents):\n",
        "    losses.append(torch.zeros([],requires_grad=True))\n",
        "\n",
        "for j in range(n_steps):   \n",
        "\n",
        "  # Action selection\n",
        "  p1 = Agents[0](r1)\n",
        "  p2 = Agents[1](r2)\n",
        "\n",
        "  if p1[0] > np.random.random():\n",
        "    a1 = 0\n",
        "  else:\n",
        "    a1 = 1\n",
        "\n",
        "  if p2[0] > np.random.random():\n",
        "    a2 = 0\n",
        "  else:\n",
        "    a2 = 1\n",
        "\n",
        "  # Save p1_s & p2_s trajectory\n",
        "  p1_1.append(p1[0])\n",
        "  p2_1.append(p2[0])\n",
        "\n",
        "\n",
        "  # Rewards\n",
        "  for i in range(output_dim):\n",
        "    r1[i] = (1-delta)*RM[0][s][a1,a2] + delta*RM[1][s][a1,a2]\n",
        "    r2[i] = (1-delta)*RM[1][s][a1,a2] + delta*RM[0][s][a1,a2]\n",
        "\n",
        "\n",
        "  r_total[0] = r_total[0] + r1\n",
        "  r_total[1] = r_total[1] + r2\n",
        "\n",
        "  r1_list.append(r1)\n",
        "  r2_list.append(r2)\n",
        "\n",
        "  #REINFORCE\n",
        "  rl1 = REINFORCE(p1[0],r1,baselines[0])\n",
        "  rl2 = REINFORCE(p2[0],r2,baselines[1])\n",
        "\n",
        "  # Accumulate reward loss\n",
        "  losses[0] = losses[0] + rl1\n",
        "  losses[1] = losses[1] + rl2\n",
        "\n",
        "\n",
        "\n",
        "  # Initialize optimizers for learning\n",
        "  optimizers = []\n",
        "  for i in range(num_agents):\n",
        "      optimizers.append(optim.Adam(Agents[i].parameters()))\n",
        "\n",
        "  for i in range(num_agents):\n",
        "    # optimize\n",
        "    optimizers[i].zero_grad()\n",
        "    losses[i].backward()\n",
        "    optimizers[i].step()\n",
        "\n",
        "    r_mean[i] = r_total[i]/output_dim # Overall episode batch-averaged reward\n",
        "\n",
        "    # Update baseline with batch-averaged reward\n",
        "    baselines[i] = smoothing_const * baselines[i] + (1-smoothing_const)*r_mean\n",
        "  \n",
        "  "
      ],
      "execution_count": 0,
      "outputs": [
        {
          "output_type": "error",
          "ename": "RuntimeError",
          "evalue": "ignored",
          "traceback": [
            "\u001b[0;31m---------------------------------------------------------------------------\u001b[0m",
            "\u001b[0;31mRuntimeError\u001b[0m                              Traceback (most recent call last)",
            "\u001b[0;32m<ipython-input-202-8ff0d32d1e55>\u001b[0m in \u001b[0;36m<module>\u001b[0;34m()\u001b[0m\n\u001b[1;32m     99\u001b[0m     \u001b[0;31m# optimize\u001b[0m\u001b[0;34m\u001b[0m\u001b[0;34m\u001b[0m\u001b[0;34m\u001b[0m\u001b[0m\n\u001b[1;32m    100\u001b[0m     \u001b[0moptimizers\u001b[0m\u001b[0;34m[\u001b[0m\u001b[0mi\u001b[0m\u001b[0;34m]\u001b[0m\u001b[0;34m.\u001b[0m\u001b[0mzero_grad\u001b[0m\u001b[0;34m(\u001b[0m\u001b[0;34m)\u001b[0m\u001b[0;34m\u001b[0m\u001b[0;34m\u001b[0m\u001b[0m\n\u001b[0;32m--> 101\u001b[0;31m     \u001b[0mlosses\u001b[0m\u001b[0;34m[\u001b[0m\u001b[0mi\u001b[0m\u001b[0;34m]\u001b[0m\u001b[0;34m.\u001b[0m\u001b[0mbackward\u001b[0m\u001b[0;34m(\u001b[0m\u001b[0;34m)\u001b[0m\u001b[0;34m\u001b[0m\u001b[0;34m\u001b[0m\u001b[0m\n\u001b[0m\u001b[1;32m    102\u001b[0m     \u001b[0moptimizers\u001b[0m\u001b[0;34m[\u001b[0m\u001b[0mi\u001b[0m\u001b[0;34m]\u001b[0m\u001b[0;34m.\u001b[0m\u001b[0mstep\u001b[0m\u001b[0;34m(\u001b[0m\u001b[0;34m)\u001b[0m\u001b[0;34m\u001b[0m\u001b[0;34m\u001b[0m\u001b[0m\n\u001b[1;32m    103\u001b[0m \u001b[0;34m\u001b[0m\u001b[0m\n",
            "\u001b[0;32m/usr/local/lib/python3.6/dist-packages/torch/tensor.py\u001b[0m in \u001b[0;36mbackward\u001b[0;34m(self, gradient, retain_graph, create_graph)\u001b[0m\n\u001b[1;32m     91\u001b[0m                 \u001b[0mproducts\u001b[0m\u001b[0;34m.\u001b[0m \u001b[0mDefaults\u001b[0m \u001b[0mto\u001b[0m\u001b[0;31m \u001b[0m\u001b[0;31m`\u001b[0m\u001b[0;31m`\u001b[0m\u001b[0;32mFalse\u001b[0m\u001b[0;31m`\u001b[0m\u001b[0;31m`\u001b[0m\u001b[0;34m.\u001b[0m\u001b[0;34m\u001b[0m\u001b[0;34m\u001b[0m\u001b[0m\n\u001b[1;32m     92\u001b[0m         \"\"\"\n\u001b[0;32m---> 93\u001b[0;31m         \u001b[0mtorch\u001b[0m\u001b[0;34m.\u001b[0m\u001b[0mautograd\u001b[0m\u001b[0;34m.\u001b[0m\u001b[0mbackward\u001b[0m\u001b[0;34m(\u001b[0m\u001b[0mself\u001b[0m\u001b[0;34m,\u001b[0m \u001b[0mgradient\u001b[0m\u001b[0;34m,\u001b[0m \u001b[0mretain_graph\u001b[0m\u001b[0;34m,\u001b[0m \u001b[0mcreate_graph\u001b[0m\u001b[0;34m)\u001b[0m\u001b[0;34m\u001b[0m\u001b[0;34m\u001b[0m\u001b[0m\n\u001b[0m\u001b[1;32m     94\u001b[0m \u001b[0;34m\u001b[0m\u001b[0m\n\u001b[1;32m     95\u001b[0m     \u001b[0;32mdef\u001b[0m \u001b[0mregister_hook\u001b[0m\u001b[0;34m(\u001b[0m\u001b[0mself\u001b[0m\u001b[0;34m,\u001b[0m \u001b[0mhook\u001b[0m\u001b[0;34m)\u001b[0m\u001b[0;34m:\u001b[0m\u001b[0;34m\u001b[0m\u001b[0;34m\u001b[0m\u001b[0m\n",
            "\u001b[0;32m/usr/local/lib/python3.6/dist-packages/torch/autograd/__init__.py\u001b[0m in \u001b[0;36mbackward\u001b[0;34m(tensors, grad_tensors, retain_graph, create_graph, grad_variables)\u001b[0m\n\u001b[1;32m     88\u001b[0m     Variable._execution_engine.run_backward(\n\u001b[1;32m     89\u001b[0m         \u001b[0mtensors\u001b[0m\u001b[0;34m,\u001b[0m \u001b[0mgrad_tensors\u001b[0m\u001b[0;34m,\u001b[0m \u001b[0mretain_graph\u001b[0m\u001b[0;34m,\u001b[0m \u001b[0mcreate_graph\u001b[0m\u001b[0;34m,\u001b[0m\u001b[0;34m\u001b[0m\u001b[0;34m\u001b[0m\u001b[0m\n\u001b[0;32m---> 90\u001b[0;31m         allow_unreachable=True)  # allow_unreachable flag\n\u001b[0m\u001b[1;32m     91\u001b[0m \u001b[0;34m\u001b[0m\u001b[0m\n\u001b[1;32m     92\u001b[0m \u001b[0;34m\u001b[0m\u001b[0m\n",
            "\u001b[0;31mRuntimeError\u001b[0m: one of the variables needed for gradient computation has been modified by an inplace operation"
          ]
        }
      ]
    },
    {
      "metadata": {
        "id": "pucUfkOCVe5o",
        "colab_type": "code",
        "outputId": "23c0388c-b2b3-4fe0-d0d1-581f4e8e539f",
        "colab": {
          "base_uri": "https://localhost:8080/",
          "height": 899
        }
      },
      "cell_type": "code",
      "source": [
        "orange = '#ff8c13'\n",
        "blue = '#0d3692'\n",
        "\n",
        "plt.figure(facecolor = 'white')\n",
        "plt.style.use('classic')\n",
        "#plt.axis('square')\n",
        "\n",
        "plt.plot(p1_1,p2_1,blue,linewidth=4)\n",
        "plt.plot(p1_1[0],p2_1[0],'bo',markersize=10) # Initial\n",
        "plt.plot(p1_1[-1],p2_1[-1],'ro',markersize=10) # Final\n",
        "\n",
        "\n",
        "plt.xlim(0,1)\n",
        "plt.ylim(0,1)\n",
        "\n",
        "# Reward plot ------------------------------------------------------------------\n",
        "\n",
        "plt.figure()\n",
        "plt.plot(r1_list,\"r-\", label = 'Agent 1')\n",
        "plt.plot(r2_list,\"b-\", label = 'Agent 2')\n",
        "plt.legend(loc = 'upper right')\n",
        "plt.xlabel('Iteration')\n",
        "plt.ylabel('Reward')\n"
      ],
      "execution_count": 0,
      "outputs": [
        {
          "output_type": "execute_result",
          "data": {
            "text/plain": [
              "Text(0, 0.5, 'Reward')"
            ]
          },
          "metadata": {
            "tags": []
          },
          "execution_count": 87
        },
        {
          "output_type": "display_data",
          "data": {
            "image/png": "[encoded data removed]",
            "text/plain": [
              "<Figure size 640x480 with 1 Axes>"
            ]
          },
          "metadata": {
            "tags": []
          }
        },
        {
          "output_type": "display_data",
          "data": {
            "image/png": "[encoded data removed]",
            "text/plain": [
              "<Figure size 640x480 with 1 Axes>"
            ]
          },
          "metadata": {
            "tags": []
          }
        }
      ]
    },
    {
      "metadata": {
        "id": "Jn9dHpaYVaUD",
        "colab_type": "code",
        "outputId": "b1096514-49b4-4c55-dc5b-e21e3e702392",
        "colab": {
          "base_uri": "https://localhost:8080/",
          "height": 51
        }
      },
      "cell_type": "code",
      "source": [
        ""
      ],
      "execution_count": 0,
      "outputs": [
        {
          "output_type": "stream",
          "text": [
            "tensor([0.0347], grad_fn=<ThMulBackward>)\n",
            "tensor([0.0347], grad_fn=<ThMulBackward>)\n"
          ],
          "name": "stdout"
        }
      ]
    },
    {
      "metadata": {
        "id": "wfaBu16kaJDq",
        "colab_type": "code",
        "outputId": "ea97018b-1ff3-4aa2-9502-e12b92c9337d",
        "colab": {
          "base_uri": "https://localhost:8080/",
          "height": 34
        }
      },
      "cell_type": "code",
      "source": [
        ""
      ],
      "execution_count": 0,
      "outputs": [
        {
          "output_type": "execute_result",
          "data": {
            "text/plain": [
              "[tensor([0.6000]), tensor([0.6000]), 0]"
            ]
          },
          "metadata": {
            "tags": []
          },
          "execution_count": 30
        }
      ]
    },
    {
      "metadata": {
        "id": "WXi_c9-y6mVc",
        "colab_type": "code",
        "colab": {}
      },
      "cell_type": "code",
      "source": [
        ""
      ],
      "execution_count": 0,
      "outputs": []
    }
  ]
}